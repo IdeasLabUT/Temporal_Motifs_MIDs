{
 "cells": [
  {
   "cell_type": "code",
   "execution_count": 2,
   "id": "e0c91d6c",
   "metadata": {},
   "outputs": [],
   "source": [
    "from dynetworkx.classes.impulsedigraph import ImpulseDiGraph\n",
    "import pickle\n",
    "import pandas as pd\n",
    "import datetime"
   ]
  },
  {
   "cell_type": "code",
   "execution_count": 3,
   "id": "4bbd8034",
   "metadata": {},
   "outputs": [],
   "source": [
    "MIDI = pd.read_csv('Incident_Level_5_01/MIDI_5.01.csv')\n",
    "MIDIP = pd.read_csv('Incident_Level_5_01/MIDIP_5.01.csv')"
   ]
  },
  {
   "cell_type": "markdown",
   "id": "0b33e2e5",
   "metadata": {},
   "source": [
    "In this notebook, I build the conflict network from the MIDIP dataset, with some information from the MIDI dataset. The network built is a Impulse DiGraph, which uses only the start date of each incident. Edges are ordered by the incident start date. Edges occuring at the same time are ordered using ord_incidnum. Each edges are also added Gaussian noise with mean=0, std=1 to each timestamps. Therefore, for joint attacks, whose edges have same start date and ord_incidnum, are still ordred randomly. The result of this notebook is a list of 10 different networks with different Gaussian noise."
   ]
  },
  {
   "cell_type": "markdown",
   "id": "e99ead10",
   "metadata": {},
   "source": [
    "# Cleaning data"
   ]
  },
  {
   "cell_type": "code",
   "execution_count": 4,
   "id": "e2a021c7",
   "metadata": {
    "code_folding": [
     8
    ]
   },
   "outputs": [],
   "source": [
    "# convert dates to timestamps (numeric values) and fix missing values\n",
    "# \n",
    "# missing values are replaced either by:\n",
    "#     * start or end dates of the incident (many participants can be involved in the incidents at different time \n",
    "# during the event, if start/end dates of a participant is missing, they will be replaced by the start/end dates\n",
    "# of the incident that they are in) \n",
    "#     * first or last day/month of the month/year. \n",
    "\n",
    "def convert_to_timestamp():\n",
    "    sttimestamp = []\n",
    "    endtimestamp = []\n",
    "    for idx, value in MIDIP.iterrows():\n",
    "        ### convert start dates to timestamps ###\n",
    "        \n",
    "        # incident date\n",
    "        incid_styear = int(MIDI[MIDI['ord_incidnum'] == value['ord_incidnum']]['styear']) \n",
    "        incid_stmon = int(MIDI[MIDI['ord_incidnum'] == value['ord_incidnum']]['stmon'])\n",
    "        incid_stday = int(MIDI[MIDI['ord_incidnum'] == value['ord_incidnum']]['stday'])\n",
    "\n",
    "        # fill missing values\n",
    "        year = value['styear']\n",
    "        \n",
    "        if value['stmon'] == -9:\n",
    "            if incid_stmon == -9 or year != incid_styear:\n",
    "                month = 1\n",
    "            else:\n",
    "                month = incid_stmon\n",
    "        else:\n",
    "            month = value['stmon']\n",
    "\n",
    "\n",
    "        if value['stday'] == -9:\n",
    "            if incid_stday == -9 or month != incid_stmon or year != incid_styear :\n",
    "                day = 1\n",
    "            else:\n",
    "                day = incid_stday\n",
    "        else:\n",
    "            day = value['stday']\n",
    "        \n",
    "        # to timestamp\n",
    "        sttimestamp.append(datetime.datetime(year, month, day).timestamp())\n",
    "        \n",
    "        ### convert end dates to timstamps ###\n",
    "        \n",
    "        # incident date\n",
    "        incid_endyear = int(MIDI[MIDI['ord_incidnum'] == value['ord_incidnum']]['endyear']) \n",
    "        incid_endmon = int(MIDI[MIDI['ord_incidnum'] == value['ord_incidnum']]['endmon'])\n",
    "        incid_endday = int(MIDI[MIDI['ord_incidnum'] == value['ord_incidnum']]['endday'])\n",
    "        \n",
    "        # fill missing values\n",
    "        year2 = value['endyear']\n",
    "        if value['endmon'] == -9:\n",
    "            if incid_endmon == -9 or year2 != incid_endyear:\n",
    "                month2 = 12\n",
    "            else:\n",
    "                month2 = incid_endmon\n",
    "        else:\n",
    "            month2 = value['endmon']\n",
    "\n",
    "        if value['endday'] == -9:\n",
    "            if incid_endday == -9 or month2 != incid_endmon or year2 != incid_endyear:\n",
    "                if month2 in [1,3,5,7,8,10,12]:\n",
    "                    day2 = 31\n",
    "                elif month2 == 2:\n",
    "                    if year2 % 4 == 0:\n",
    "                        day2 = 29\n",
    "                    else:\n",
    "                        day2 = 28\n",
    "                else:\n",
    "                    day2 = 30\n",
    "            else:\n",
    "                day2 = incid_endday\n",
    "        else:\n",
    "            day2 = value['endday']\n",
    "\n",
    "        # to timstamp\n",
    "        endtimestamp.append(datetime.datetime(year2, month2, day2).timestamp())\n",
    "\n",
    "    #    \n",
    "    MIDIP['sttimestamp'] = sttimestamp\n",
    "    MIDIP['endtimestamp'] = endtimestamp\n",
    "\n",
    "convert_to_timestamp()"
   ]
  },
  {
   "cell_type": "code",
   "execution_count": 5,
   "id": "e938905e",
   "metadata": {},
   "outputs": [],
   "source": [
    "# participants in incidnum 4182466, 4581015, and 4483034, have same start date, incidnum, but different end dates\n",
    "# since the date difference is only 2, and there are only 3 instances of this inconsistency,\n",
    "# I'll just change the different one to math the other\n",
    "MIDIP.loc[3361,['endday','endmon']] = 29, 6\n",
    "MIDIP.loc[7555,'endday'] = 18\n",
    "MIDIP.loc[6147,'endday'] = 26\n",
    "\n",
    "# update the timestamps with these new values\n",
    "convert_to_timestamp()"
   ]
  },
  {
   "cell_type": "code",
   "execution_count": 6,
   "id": "8f1928ea",
   "metadata": {},
   "outputs": [],
   "source": [
    "# there are 2 rows with end date before start date. I'm just dropping those.\n",
    "MIDIP = MIDIP[MIDIP['sttimestamp'] <= MIDIP['endtimestamp']]"
   ]
  },
  {
   "cell_type": "markdown",
   "id": "d51be16c",
   "metadata": {},
   "source": [
    "# Build Graph"
   ]
  },
  {
   "cell_type": "code",
   "execution_count": 7,
   "id": "59634b16",
   "metadata": {},
   "outputs": [],
   "source": [
    "# We build 10 different networks with different Gaussian noise\n",
    "#\n",
    "# The network is built only using the start timestamp of each incident. Therefore, the result network is\n",
    "# and Impulse Directed Graph\n",
    "#\n",
    "# Edges are ordered by sttimestamp, then ord_incidnum (which is ordered id of each incidents happening in \n",
    "# the same date)\n",
    "\n",
    "incidents = list(MIDIP[MIDIP['sttimestamp'] <= MIDIP['endtimestamp']].sort_values(['sttimestamp','ord_incidnum']).groupby(['sttimestamp','ord_incidnum']))\n",
    "one_day = 86400  # seconds in 1 day\n",
    "\n",
    "graphs = list()\n",
    "for i in range(10): # generate 10 graphs\n",
    "    G = ImpulseDiGraph()\n",
    "    \n",
    "    j = 0 \n",
    "    while j < len(incidents):\n",
    "        # collect all incidents having same time together\n",
    "        prev_time = incidents[j][0][0]\n",
    "        same_time_incidents = list()\n",
    "        while incidents[j][0][0] == prev_time:\n",
    "            same_time_incidents.append(incidents[j])\n",
    "            j += 1\n",
    "\n",
    "            if j == len(incidents):\n",
    "                break\n",
    "\n",
    "        # add incidents happening in the same date together to the network\n",
    "        add = 0\n",
    "        for incident in same_time_incidents:\n",
    "            idx, value = incident\n",
    "            # this is used to make incidents happened in the date to be uniformly spreaded througout the date\n",
    "            # e.g. If there is 1 incident in a day, its time will be 12pm. If there are 2, one is at 8am, one is\n",
    "            # at 16pm.\n",
    "            add += one_day/(len(same_time_incidents)+ 1) \n",
    "            \n",
    "            # get attacking states\n",
    "            active = list()\n",
    "            for i, row in value.iterrows():\n",
    "                if row['insidea'] == 1:\n",
    "                    active.append(row)\n",
    "\n",
    "            # get states being attacked\n",
    "            passive = list()\n",
    "            if len(active) != 0:\n",
    "                p = list(MIDIP[(MIDIP['ord_incidnum'] == idx[1]) & (MIDIP['insidea'] == 0)].iterrows())\n",
    "                for i, row in p:\n",
    "                    passive.append(row)\n",
    "                    \n",
    "            # add edges\n",
    "            for a in active:\n",
    "                for p in passive:\n",
    "                    ## assign the timestamp to be which country joins after. \n",
    "                    # For example: country A' start day maybe 1 if some other country attack it on day 1. But if \n",
    "                    # country B which attacks country A has start day of 4, the edge B -> A will have timestamp = 4\n",
    "                    if a['sttimestamp'] >= p['sttimestamp']:\n",
    "                        timestamp = a['sttimestamp']\n",
    "                    else:\n",
    "                        timestamp = p['sttimestamp']\n",
    "\n",
    "                    G.add_edge(a['stabb'], p['stabb'], timestamp + add + np.random.normal(loc=0, scale=1))\n",
    "                    \n",
    "    graphs.append(G)"
   ]
  },
  {
   "cell_type": "code",
   "execution_count": 8,
   "id": "710927c4",
   "metadata": {},
   "outputs": [],
   "source": [
    "with open('temp/graphs.pickle','wb') as f:\n",
    "    pickle.dump(graphs, f)"
   ]
  },
  {
   "cell_type": "code",
   "execution_count": 9,
   "id": "dc16079b",
   "metadata": {},
   "outputs": [
    {
     "data": {
      "text/plain": [
       "[<dynetworkx.classes.impulsedigraph.ImpulseDiGraph at 0x7ff34e2e9ee0>,\n",
       " <dynetworkx.classes.impulsedigraph.ImpulseDiGraph at 0x7ff37815cdf0>,\n",
       " <dynetworkx.classes.impulsedigraph.ImpulseDiGraph at 0x7ff34e2e9be0>,\n",
       " <dynetworkx.classes.impulsedigraph.ImpulseDiGraph at 0x7ff34e2e9760>,\n",
       " <dynetworkx.classes.impulsedigraph.ImpulseDiGraph at 0x7ff34e2e9c70>,\n",
       " <dynetworkx.classes.impulsedigraph.ImpulseDiGraph at 0x7ff34e2e9bb0>,\n",
       " <dynetworkx.classes.impulsedigraph.ImpulseDiGraph at 0x7ff34e2e9af0>,\n",
       " <dynetworkx.classes.impulsedigraph.ImpulseDiGraph at 0x7ff34e2e9340>,\n",
       " <dynetworkx.classes.impulsedigraph.ImpulseDiGraph at 0x7ff34e2e9610>,\n",
       " <dynetworkx.classes.impulsedigraph.ImpulseDiGraph at 0x7ff34e2e90d0>]"
      ]
     },
     "execution_count": 9,
     "metadata": {},
     "output_type": "execute_result"
    }
   ],
   "source": [
    "graphs"
   ]
  }
 ],
 "metadata": {
  "hide_input": false,
  "kernelspec": {
   "display_name": "Python 3",
   "language": "python",
   "name": "python3"
  },
  "language_info": {
   "codemirror_mode": {
    "name": "ipython",
    "version": 3
   },
   "file_extension": ".py",
   "mimetype": "text/x-python",
   "name": "python",
   "nbconvert_exporter": "python",
   "pygments_lexer": "ipython3",
   "version": "3.9.4"
  },
  "toc": {
   "base_numbering": 1,
   "nav_menu": {},
   "number_sections": true,
   "sideBar": true,
   "skip_h1_title": false,
   "title_cell": "Table of Contents",
   "title_sidebar": "Contents",
   "toc_cell": false,
   "toc_position": {},
   "toc_section_display": true,
   "toc_window_display": false
  },
  "varInspector": {
   "cols": {
    "lenName": 16,
    "lenType": 16,
    "lenVar": 40
   },
   "kernels_config": {
    "python": {
     "delete_cmd_postfix": "",
     "delete_cmd_prefix": "del ",
     "library": "var_list.py",
     "varRefreshCmd": "print(var_dic_list())"
    },
    "r": {
     "delete_cmd_postfix": ") ",
     "delete_cmd_prefix": "rm(",
     "library": "var_list.r",
     "varRefreshCmd": "cat(var_dic_list()) "
    }
   },
   "types_to_exclude": [
    "module",
    "function",
    "builtin_function_or_method",
    "instance",
    "_Feature"
   ],
   "window_display": false
  }
 },
 "nbformat": 4,
 "nbformat_minor": 5
}
